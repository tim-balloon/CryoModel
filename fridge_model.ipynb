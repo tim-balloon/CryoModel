{
 "cells": [
  {
   "cell_type": "code",
   "execution_count": 7,
   "metadata": {},
   "outputs": [],
   "source": [
    "import numpy as np\n",
    "import scipy as sp\n",
    "\n",
    "import matplotlib.pyplot as plt\n",
    "%matplotlib inline\n",
    "\n",
    "from scipy.integrate import simps\n",
    "\n",
    "import importlib"
   ]
  },
  {
   "cell_type": "code",
   "execution_count": 116,
   "metadata": {},
   "outputs": [],
   "source": [
    "from radmodel import uprint\n",
    "\n",
    "importlib.reload(FridgeModel)\n",
    "from FridgeModel import *"
   ]
  },
  {
   "cell_type": "code",
   "execution_count": 117,
   "metadata": {},
   "outputs": [
    {
     "name": "stdout",
     "output_type": "stream",
     "text": [
      "System: TIM subKelvin system - He 10\n",
      "Stages:\n",
      "   4k , Temp: 4.20K\n",
      "   1k , Temp: 0.90K\n",
      "   0.3k , Temp: 0.25K\n",
      "Linkages:\n",
      "  Rad_4k_1k\t\t | 4k to 1k\t | Radiation\t | area: 1.00e+02 cm^2\n",
      "  Rad_4k_03k\t\t | 4k to 0.3k\t | Radiation\t | area: 1.20e+03 cm^2\n",
      "  CF_rod_4k_1k\t\t | 4k to 1k\t | Conduction\t | CF, A/L: 1.10e-03 m\n",
      "  CF_rod_1k_03k\t\t | 1k to 0.3k\t | Conduction\t | CF, A/L: 1.10e-03 m\n",
      "  Wire_4k_1k\t\t | 4k to 1k\t | Conduction\t | SS304, A/L: 3.92e-05 m\n",
      "  Wire_1k_03k\t\t | 1k to 0.3k\t | Conduction\t | SS304, A/L: 5.23e-05 m\n",
      "  He3_4k_03k\t\t | 4k to 0.3k\t | Fridge\n"
     ]
    }
   ],
   "source": [
    "model = ThermalSystem(name='TIM subKelvin system - He 10')\n",
    "stages = [Stages(name='4k', T0=4.2), Stages(name='1k', T0=.9), \\\n",
    "          Stages(name='0.3k', T0=.25)]\n",
    "\n",
    "model.add_stages(stages)\n",
    "\n",
    "# radiation\n",
    "model.add_linkage(Radi(name='Rad_4k_1k', area = 100, s1=model.stages[0], \\\n",
    "                            s2=model.stages[1]))\n",
    "model.add_linkage(Radi(name='Rad_4k_03k', area = 1200, s1=model.stages[0], \\\n",
    "                            s2=model.stages[2]))\n",
    "\n",
    "\n",
    "# carbon fiber rods\n",
    "CF_AL = 20 * np.pi *(2.e-3**2-1.5e-3**2)/0.1\n",
    "model.add_linkage(Cond(name='CF_rod_4k_1k', AOverL = CF_AL, material=CF, s1=model.stages[0], \\\n",
    "                            s2=model.stages[1]))\n",
    "\n",
    "CF_AL2 = 20 * np.pi *(2e-3**2-1.5e-3**2)/0.1\n",
    "model.add_linkage(Cond(name='CF_rod_1k_03k', AOverL = CF_AL2, material=CF, s1=model.stages[1], \\\n",
    "                            s2=model.stages[2]))\n",
    "\n",
    "\n",
    "# model.add_linkage(Cond(name='HS_4k_1k', AOverL = 2e-5, material='SS', s1=model.stages[0], \\\n",
    "#                             s2=model.stages[1]))\n",
    "\n",
    "\n",
    "Wire_AOverL = (4*2+2) * np.pi*(8.6e-4**2 - 7e-4**2)/0.2\n",
    "model.add_linkage(Cond(name='Wire_4k_1k', AOverL = Wire_AOverL, material=SS, s1=model.stages[0], \\\n",
    "                            s2=model.stages[1]))\n",
    "\n",
    "Wire_AOverL2 = (4*2+2) * np.pi*(8.6e-4**2 - 7e-4**2)/0.15\n",
    "model.add_linkage(Cond(name='Wire_1k_03k', AOverL = Wire_AOverL2, material=SS, s1=model.stages[1], \\\n",
    "                            s2=model.stages[2]))\n",
    "\n",
    "\n",
    "\n",
    "\n",
    "# fridge\n",
    "model.add_linkage(Fridge(name='He3_4k_03k', s1=model.stages[0], s2=model.stages[2], \\\n",
    "                        stp = 8, heaterE=4600, no_load_time=48*3600,))\n",
    "\n",
    "\n",
    "model.showSystem()"
   ]
  },
  {
   "cell_type": "code",
   "execution_count": 118,
   "metadata": {},
   "outputs": [
    {
     "name": "stdout",
     "output_type": "stream",
     "text": [
      "Fluxs on links:\n",
      "  Link:  Rad_4k_1k\t | 4k to 1k\t | Flux:  176.074 nW\n",
      "  Link: Rad_4k_03k\t | 4k to 0.3k\t | Flux:   2.117 uW\n",
      "  Link: CF_rod_4k_1k\t | 4k to 1k\t | Flux:  65.482 uW\n",
      "  Link: CF_rod_1k_03k\t | 1k to 0.3k\t | Flux:   3.121 uW\n",
      "  Link: Wire_4k_1k\t | 4k to 1k\t | Flux:  21.413 uW\n",
      "  Link: Wire_1k_03k\t | 1k to 0.3k\t | Flux:  885.272 nW\n",
      "Static Loads on stages:\n",
      "  Stage: 4k\t  Load:  -89.188 uW\n",
      "  Stage: 1k\t  Load:  83.064 uW\n",
      "  Stage: 0.3k\t  Load:   6.124 uW\n",
      "Fridge:\n",
      "  Link: He3_4k_03k\t Avg MT Load:  42.959 mW \n",
      "  Hold Time: 29.74 h\t Cycle Efficiency: 0.933 \t\n",
      "  Ext Load: 6.12 uW\t Parasitic Load: 51.67 uW\t\n",
      "  Flowrate when cycle: 0.031 g/s\n"
     ]
    }
   ],
   "source": [
    "model.calLoads()\n",
    "model.showLoads()\n",
    "model.showFridge()"
   ]
  },
  {
   "cell_type": "code",
   "execution_count": 121,
   "metadata": {},
   "outputs": [
    {
     "name": "stdout",
     "output_type": "stream",
     "text": [
      "System: TIM subKelvin system - SFT\n",
      "Stages:\n",
      "   4k , Temp: 4.20K\n",
      "   1k , Temp: 1.47K\n",
      "   0.3k , Temp: 0.25K\n",
      "Linkages:\n",
      "  Rad_4k_1k\t\t | 4k to 1k\t | Radiation\t | area: 1.00e+02 cm^2\n",
      "  Rad_4k_03k\t\t | 4k to 0.3k\t | Radiation\t | area: 1.20e+03 cm^2\n",
      "  G10_ring_4k_1k\t\t | 4k to 1k\t | Conduction\t | G10, A/L: 1.35e-03 m\n",
      "  Pump_tube_4k_1k\t\t | 4k to 1k\t | Conduction\t | SS304, A/L: 1.90e-05 m\n",
      "  Cap_4k_1k\t\t | 4k to 1k\t | Conduction\t | SS304, A/L: 1.00e-06 m\n",
      "  CF_rod_4k_1k\t\t | 4k to 1k\t | Conduction\t | CF, A/L: 1.10e-03 m\n",
      "  CF_rod_1k_03k\t\t | 1k to 0.3k\t | Conduction\t | CF, A/L: 1.10e-03 m\n",
      "  Wire_4k_1k\t\t | 4k to 1k\t | Conduction\t | SS304, A/L: 3.92e-05 m\n",
      "  Wire_1k_03k\t\t | 1k to 0.3k\t | Conduction\t | SS304, A/L: 5.23e-05 m\n",
      "  He3_1k_03k\t\t | 1k to 0.3k\t | Fridge\n"
     ]
    }
   ],
   "source": [
    "model2 = ThermalSystem(name='TIM subKelvin system - SFT')\n",
    "stages2 = [Stages(name='4k', T0=4.2), Stages(name='1k', T0=1.47), \\\n",
    "          Stages(name='0.3k', T0=.25)]\n",
    "\n",
    "model2.add_stages(stages2)\n",
    "\n",
    "# radiation\n",
    "model2.add_linkage(Radi(name='Rad_4k_1k', area = 100, s1=model2.stages[0], \\\n",
    "                            s2=model2.stages[1]))\n",
    "model2.add_linkage(Radi(name='Rad_4k_03k', area = 1200, s1=model2.stages[0], \\\n",
    "                            s2=model2.stages[2]))\n",
    "\n",
    "\n",
    "# SFT G10 support\n",
    "SFT_support = 1.35e-3 #m\n",
    "model2.add_linkage(Cond(name='G10_ring_4k_1k', AOverL = SFT_support, material=G10, s1=model2.stages[0], \\\n",
    "                            s2=model2.stages[1]))\n",
    "\n",
    "# SFT SS pump tube\n",
    "SFT_pt = 1.9e-5 #m\n",
    "model2.add_linkage(Cond(name='Pump_tube_4k_1k', AOverL = SFT_pt, material=SS, s1=model2.stages[0], \\\n",
    "                            s2=model2.stages[1]))\n",
    "\n",
    "# SFT SS pump tube\n",
    "SFT_cap = 1.e-6 #m\n",
    "model2.add_linkage(Cond(name='Cap_4k_1k', AOverL = SFT_cap, material=SS, s1=model2.stages[0], \\\n",
    "                            s2=model2.stages[1]))\n",
    "\n",
    "\n",
    "# carbon fiber rods\n",
    "CF_AL = 20 * np.pi *(2.e-3**2-1.5e-3**2)/0.1\n",
    "model2.add_linkage(Cond(name='CF_rod_4k_1k', AOverL = CF_AL, material=CF, s1=model2.stages[0], \\\n",
    "                            s2=model2.stages[1]))\n",
    "\n",
    "CF_AL2 = 20 * np.pi *(2e-3**2-1.5e-3**2)/0.1\n",
    "model2.add_linkage(Cond(name='CF_rod_1k_03k', AOverL = CF_AL2, material=CF, s1=model2.stages[1], \\\n",
    "                            s2=model2.stages[2]))\n",
    "\n",
    "\n",
    "# model.add_linkage(Cond(name='HS_4k_1k', AOverL = 2e-5, material='SS', s1=model.stages[0], \\\n",
    "#                             s2=model.stages[1]))\n",
    "\n",
    "\n",
    "Wire_AOverL = (4*2+2) * np.pi*(8.6e-4**2 - 7e-4**2)/0.2\n",
    "model2.add_linkage(Cond(name='Wire_4k_1k', AOverL = Wire_AOverL, material=SS, s1=model2.stages[0], \\\n",
    "                            s2=model2.stages[1]))\n",
    "\n",
    "Wire_AOverL2 = (4*2+2) * np.pi*(8.6e-4**2 - 7e-4**2)/0.15\n",
    "model2.add_linkage(Cond(name='Wire_1k_03k', AOverL = Wire_AOverL2, material=SS, s1=model2.stages[1], \\\n",
    "                            s2=model2.stages[2]))\n",
    "\n",
    "\n",
    "\n",
    "\n",
    "# fridge\n",
    "model2.add_linkage(Fridge(name='He3_1k_03k', s1=model2.stages[1], s2=model2.stages[2], \\\n",
    "                        stp = 8, heaterE=1500, no_load_time=48*3600))\n",
    "\n",
    "\n",
    "model2.showSystem()"
   ]
  },
  {
   "cell_type": "code",
   "execution_count": 122,
   "metadata": {},
   "outputs": [
    {
     "name": "stdout",
     "output_type": "stream",
     "text": [
      "Fluxs on links:\n",
      "  Link:  Rad_4k_1k\t | 4k to 1k\t | Flux:  173.798 nW\n",
      "  Link: Rad_4k_03k\t | 4k to 0.3k\t | Flux:   2.117 uW\n",
      "  Link: G10_ring_4k_1k\t | 4k to 1k\t | Flux:  166.249 uW\n",
      "  Link: Pump_tube_4k_1k\t | 4k to 1k\t | Flux:   9.477 uW\n",
      "  Link:  Cap_4k_1k\t | 4k to 1k\t | Flux:  498.801 nW\n",
      "  Link: CF_rod_4k_1k\t | 4k to 1k\t | Flux:  59.154 uW\n",
      "  Link: CF_rod_1k_03k\t | 1k to 0.3k\t | Flux:   9.272 uW\n",
      "  Link: Wire_4k_1k\t | 4k to 1k\t | Flux:  19.557 uW\n",
      "  Link: Wire_1k_03k\t | 1k to 0.3k\t | Flux:   2.938 uW\n",
      "Static Loads on stages:\n",
      "  Stage: 4k\t  Load:  -257.226 uW\n",
      "  Stage: 1k\t  Load:  242.900 uW\n",
      "  Stage: 0.3k\t  Load:  14.327 uW\n",
      "Fridge:\n",
      "  Link: He3_1k_03k\t Avg MT Load:  15.996 mW \n",
      "  Hold Time: 26.05 h\t Cycle Efficiency: 0.923 \t\n",
      "  Ext Load: 14.33 uW\t Parasitic Load: 51.67 uW\t\n",
      "  Flowrate when cycle: 0.010 g/s\n"
     ]
    }
   ],
   "source": [
    "model2.calLoads()\n",
    "model2.showLoads()\n",
    "model2.showFridge()"
   ]
  },
  {
   "cell_type": "code",
   "execution_count": 109,
   "metadata": {},
   "outputs": [
    {
     "name": "stdout",
     "output_type": "stream",
     "text": [
      "0.8267942583732057\n",
      "302.37268518518516\n"
     ]
    }
   ],
   "source": [
    "load = 25*1e-3\n",
    "\n",
    "L = 20.9 # J/g\n",
    "rho = 125 #g/L\n",
    "\n",
    "rate = 86400*load/(L*rho)\n",
    "\n",
    "print(rate)\n",
    "print(250/rate)"
   ]
  },
  {
   "cell_type": "code",
   "execution_count": 23,
   "metadata": {},
   "outputs": [],
   "source": [
    "_this_dir = 'cryoModel'\n",
    "\n",
    "T_G10, k_G10 = np.loadtxt(_this_dir+'/thermalProp/g10_cv_combined.txt', unpack = True)\n",
    "\n",
    "T_CF, k_CF = np.loadtxt(_this_dir+'/thermalProp/CF_cv.txt', unpack = True)\n"
   ]
  },
  {
   "cell_type": "code",
   "execution_count": 44,
   "metadata": {},
   "outputs": [
    {
     "data": {
      "text/plain": [
       "<matplotlib.legend.Legend at 0x11d53e6d0>"
      ]
     },
     "execution_count": 44,
     "metadata": {},
     "output_type": "execute_result"
    },
    {
     "data": {
      "image/png": "[encoded data removed]",
      "text/plain": [
       "<Figure size 576x432 with 1 Axes>"
      ]
     },
     "metadata": {
      "needs_background": "light"
     },
     "output_type": "display_data"
    }
   ],
   "source": [
    "fig, ax = plt.subplots(figsize=(8,6))\n",
    "\n",
    "T = np.linspace(0.2, 1, 300)\n",
    "\n",
    "G10_func = np.interp(T, T_G10, k_G10)\n",
    "CF_func = np.interp(T, T_CF, k_CF)\n",
    "SS_func = np.interp(T, np.concatenate((SSlow,SShigh))[:,0], np.concatenate((SSlow,SShigh))[:,1])\n",
    "\n",
    "plt.plot(T, G10_func, label= 'G10')\n",
    "plt.plot(T, SS_func, label= 'Stainless steel')\n",
    "plt.plot(T, CF_func, label= 'Carbon Fiber')\n",
    "plt.plot(T, 0.3e-3*T**2*100, label= 'NbTi')\n",
    "\n",
    "# plt.yscale('log')\n",
    "# plt.xscale('log')\n",
    "\n",
    "plt.legend()"
   ]
  },
  {
   "cell_type": "code",
   "execution_count": 103,
   "metadata": {},
   "outputs": [
    {
     "name": "stdout",
     "output_type": "stream",
     "text": [
      "1.5500139758995866 0 4.200376752756975 0.040350682708337866\n",
      "1.2729578844455418\n"
     ]
    },
    {
     "data": {
      "image/png": "[encoded data removed]",
      "text/plain": [
       "<Figure size 432x288 with 1 Axes>"
      ]
     },
     "metadata": {
      "needs_background": "light"
     },
     "output_type": "display_data"
    }
   ],
   "source": [
    "#!/usr/bin/env python\n",
    "\n",
    "import math\n",
    "import matplotlib.pyplot as plt\n",
    "from scipy.optimize import curve_fit\n",
    "from scipy.interpolate import interp1d\n",
    "\n",
    "\n",
    "'''\n",
    "http://www.nist.gov/srd/upload/jpcrd551.pdf\n",
    "Page 1267\n",
    "'''\n",
    "\n",
    "a_90_1 = [1.392408,0.527153,0.166756,0.050988,0.026514,0.001975,-0.017976,0.005409,0.013259,0.0]\n",
    "a_90_2 = [3.146631,1.357655,0.413923,0.091159,0.016349,0.001826,-0.004325,0.004973,0.0,0.0]\n",
    "B1 = 5.6\n",
    "C1 = 2.9\n",
    "B2 = 10.3\n",
    "C2 = 1.9\n",
    "\n",
    "def T90(pressure):\n",
    "\t#Input pressure is in Torr\n",
    "\tpressure = pressure*133.322 #Convert to Pa from Torr\n",
    "\ttemp = 0\n",
    "\tif(pressure >= 0.8626*133.322 and pressure <= 37.82*133.322):\n",
    "\t\tfor x,y in enumerate(a_90_1):\n",
    "\t\t\ttemp =  temp + y*math.pow((math.log(pressure)-B1)/C1,x)\n",
    "\telif(pressure > 37.82*133.322 and pressure <= 1471*133.322):\n",
    "\t\tfor x,y in enumerate(a_90_2):\n",
    "\t\t\ttemp =  temp + y*math.pow((math.log(pressure)-B2)/C2,x)\n",
    "\telse:\n",
    "\t\ttemp = 0\n",
    "\treturn temp\n",
    "\n",
    "def P90(temp):\n",
    "\tlog_p = 12.2440 - 59.83/(8.314510*float(temp)) + (5.0/2.0)*math.log(float(temp))\n",
    "\tpressure = math.exp(log_p) \n",
    "\tpressure = pressure/10.0 #Not sure why there is a divide by 10 here...\n",
    "\tpressure = pressure/133.322 #Convert Pa to Torr\n",
    "\treturn pressure\n",
    "\t\n",
    "print(T90(597.1/133.322),T90(1.475/133.322),T90(99230/133.322),P90(0.900))\n",
    "\n",
    "temp = []\n",
    "pressure = []\n",
    "for i in range(8626,14710000,100):\n",
    "\tpressure.append(i/10000.0)\n",
    "\ttemp.append(T90(i/10000.0))\n",
    "\n",
    "temp2 = []\n",
    "pressure2 = []\n",
    "for i in range(650,1250,1):\n",
    "\ttemp2.append(i/1000.0)\n",
    "\tpressure2.append(P90(i/1000.0))\n",
    "\n",
    "temp_interp = interp1d(pressure,temp,kind='linear',bounds_error=False,fill_value = 0)\n",
    "print(temp_interp(0.999))\n",
    "\n",
    "\n",
    "\n",
    "\n",
    "plt.plot(pressure,temp, 'r')\n",
    "plt.plot(pressure2, temp2, 'b')\n",
    "\n",
    "plt.show()"
   ]
  },
  {
   "cell_type": "code",
   "execution_count": 116,
   "metadata": {},
   "outputs": [],
   "source": [
    "\n",
    "'''\n",
    "He4 Vapor Pressure to temperature: Emperical formula\n",
    "http://journals.aps.org/pr/pdf/10.1103/PhysRev.100.743\n",
    "'''\n",
    "\n",
    "def He4Pressure(temp):\n",
    "    \n",
    "    I = 4.6202\n",
    "    A = 6.399\n",
    "    B = 2.541\n",
    "    C = 0.00612\n",
    "    D = 0.5197\n",
    "    alpha = 7.00\n",
    "    beta  = 14.14\n",
    "    \n",
    "    log_p = I - (A/temp)+B*np.log(temp)+(C/2.0)*temp**2 \n",
    "    log_p = log_p - D*((alpha*beta)/(np.power(beta,2)+1) - temp**-1)*np.arctan(alpha*temp-beta) \n",
    "    log_p = log_p - (alpha*D)/(2*(beta**2+1))*np.log((temp**2)/(1+(alpha*temp-beta)*(alpha*temp-beta)))\n",
    "    return np.exp(log_p)"
   ]
  },
  {
   "cell_type": "code",
   "execution_count": 169,
   "metadata": {},
   "outputs": [
    {
     "data": {
      "image/png": "[encoded data removed]",
      "text/plain": [
       "<Figure size 432x288 with 1 Axes>"
      ]
     },
     "metadata": {
      "needs_background": "light"
     },
     "output_type": "display_data"
    }
   ],
   "source": [
    "T = np.linspace(4.0, 4.3, 300)\n",
    "P = He4Pressure(T)\n",
    "\n",
    "atm = 750\n",
    "dp  = 40\n",
    "\n",
    "\n",
    "plt.plot(T, P, 'r', label = \"He4 Vapor Pressure\")\n",
    "plt.axhline(y=atm, ls='--', label='1 atm')\n",
    "plt.axhline(y=atm+dp, c='g', ls='--', label='1 atm + 40 torr')\n",
    "\n",
    "# plt.yscale('log')\n",
    "\n",
    "plt.xlabel('K')\n",
    "plt.ylabel('Torr')\n",
    "\n",
    "plt.legend()\n",
    "\n",
    "plt.grid()\n",
    "\n",
    "plt.savefig('he4_VP.png', dpi=120)"
   ]
  },
  {
   "cell_type": "code",
   "execution_count": 122,
   "metadata": {},
   "outputs": [
    {
     "data": {
      "text/plain": [
       "682.0224621719864"
      ]
     },
     "execution_count": 122,
     "metadata": {},
     "output_type": "execute_result"
    }
   ],
   "source": [
    "He4Pressure(4.1)"
   ]
  },
  {
   "cell_type": "code",
   "execution_count": 127,
   "metadata": {},
   "outputs": [],
   "source": [
    "from scipy import interpolate\n",
    "\n",
    "He4Temp = interpolate.interp1d(P, T)"
   ]
  },
  {
   "cell_type": "code",
   "execution_count": 131,
   "metadata": {},
   "outputs": [
    {
     "data": {
      "text/plain": [
       "array([4.21251363, 4.23736817])"
      ]
     },
     "execution_count": 131,
     "metadata": {},
     "output_type": "execute_result"
    }
   ],
   "source": [
    "He4Temp([760, 778])"
   ]
  },
  {
   "cell_type": "code",
   "execution_count": null,
   "metadata": {},
   "outputs": [],
   "source": []
  }
 ],
 "metadata": {
  "kernelspec": {
   "display_name": "Python 3",
   "language": "python",
   "name": "python3"
  },
  "language_info": {
   "codemirror_mode": {
    "name": "ipython",
    "version": 3
   },
   "file_extension": ".py",
   "mimetype": "text/x-python",
   "name": "python",
   "nbconvert_exporter": "python",
   "pygments_lexer": "ipython3",
   "version": "3.7.7"
  }
 },
 "nbformat": 4,
 "nbformat_minor": 4
}
